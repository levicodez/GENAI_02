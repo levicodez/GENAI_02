{
  "cells": [
    {
      "cell_type": "code",
      "source": [
        "!pip install --upgrade --quiet google-genai"
      ],
      "metadata": {
        "id": "RaPPdD7WExcP"
      },
      "execution_count": 30,
      "outputs": []
    },
    {
      "cell_type": "code",
      "source": [
        "from google.colab import userdata\n",
        "\n",
        "GEMINI_API_KEY : str = userdata.get('GEMINI_API_KEY')\n",
        "\n",
        "if GEMINI_API_KEY:\n",
        "  print(\"GEMINI_API_KEY FOUND\")\n",
        "else:\n",
        "  print(\"GEMINI_API_KEY NOT FOUND\")"
      ],
      "metadata": {
        "colab": {
          "base_uri": "https://localhost:8080/"
        },
        "id": "LJia8hLcGRAY",
        "outputId": "93c6686c-8dd3-4652-bea0-615648c59f10"
      },
      "execution_count": 31,
      "outputs": [
        {
          "output_type": "stream",
          "name": "stdout",
          "text": [
            "GEMINI_API_KEY FOUND\n"
          ]
        }
      ]
    },
    {
      "cell_type": "code",
      "source": [
        "from google import genai\n",
        "from google.genai import Client\n",
        "\n",
        "client: Client = genai.Client(\n",
        "    api_key=GEMINI_API_KEY,\n",
        ")\n",
        "\n",
        "model: str = \"gemini-2.0-flash-exp\""
      ],
      "metadata": {
        "id": "R7BZM_vt6NgO"
      },
      "execution_count": 32,
      "outputs": []
    },
    {
      "cell_type": "markdown",
      "source": [
        "# Video Generation"
      ],
      "metadata": {
        "id": "P7j57cv3QROB"
      }
    },
    {
      "cell_type": "markdown",
      "source": [
        "Generated From Vivago.ai : https://vivago.ai/video-generation"
      ],
      "metadata": {
        "id": "vnBnQec0QQsD"
      }
    },
    {
      "cell_type": "markdown",
      "source": [
        "**Prompt For video Generation** : An animated wizard stirs a bubbling, glowing potion in a cauldron inside a cozy, book-filled cottage. The camera zooms in on the cauldron as the potion turns bright purple, then quickly pans out as it bursts into a colorful explosion of sparkles and swirling light"
      ],
      "metadata": {
        "id": "ff22HMHTQfAd"
      }
    },
    {
      "cell_type": "code",
      "source": [
        "from google.colab import drive\n",
        "drive.mount('/content/drive')"
      ],
      "metadata": {
        "colab": {
          "base_uri": "https://localhost:8080/"
        },
        "id": "8BWyC03iRj48",
        "outputId": "e23bd203-9f02-4063-8277-452562faa617"
      },
      "execution_count": 33,
      "outputs": [
        {
          "output_type": "stream",
          "name": "stdout",
          "text": [
            "Drive already mounted at /content/drive; to attempt to forcibly remount, call drive.mount(\"/content/drive\", force_remount=True).\n"
          ]
        }
      ]
    },
    {
      "cell_type": "code",
      "source": [
        "import os\n",
        "file_path = '/content/drive/MyDrive/magician.mp4'\n",
        "if os.path.exists(file_path):\n",
        "  print(f\"File '{file_path}' exists.\")\n",
        "else:\n",
        "  print(f\"File '{file_path}' does not exist in the specified location.\")"
      ],
      "metadata": {
        "colab": {
          "base_uri": "https://localhost:8080/"
        },
        "id": "Ngs9rojJZpOZ",
        "outputId": "26371981-0b0b-416c-a914-99bf2d9a2554"
      },
      "execution_count": 36,
      "outputs": [
        {
          "output_type": "stream",
          "name": "stdout",
          "text": [
            "File '/content/drive/MyDrive/magician.mp4' exists.\n"
          ]
        }
      ]
    },
    {
      "cell_type": "code",
      "source": [
        "import time\n",
        "\n",
        "def upload_video(video_file_name):\n",
        "  video_file = client.files.upload(path=video_file_name)\n",
        "  while video_file.state == \"PROCESSING\":\n",
        "      print('Waiting for video to be processed.')\n",
        "      time.sleep(10)\n",
        "      video_file = client.files.get(name=video_file.name or \"\")\n",
        "\n",
        "  if video_file.state == \"FAILED\":\n",
        "    raise ValueError(video_file.state)\n",
        "  print(f'Video processing complete: ' + (video_file.uri or \"\"))\n",
        "\n",
        "  return video_file"
      ],
      "metadata": {
        "id": "AVDjaaMM3Soh"
      },
      "execution_count": 37,
      "outputs": []
    },
    {
      "cell_type": "code",
      "source": [
        "magician_video = upload_video(file_path)"
      ],
      "metadata": {
        "id": "slIO1H5o6aFp",
        "outputId": "35e98657-5674-47f0-8812-4c77fa44f6cf",
        "colab": {
          "base_uri": "https://localhost:8080/"
        }
      },
      "execution_count": 38,
      "outputs": [
        {
          "output_type": "stream",
          "name": "stdout",
          "text": [
            "Waiting for video to be processed.\n",
            "Video processing complete: https://generativelanguage.googleapis.com/v1beta/files/lonja9gw7q39\n"
          ]
        }
      ]
    },
    {
      "cell_type": "code",
      "source": [
        "from google.genai.types import Content, Part\n",
        "prompt = \"\"\"For each scene in this video,\n",
        "            generate captions that describe the scene along with any spoken text placed in quotation marks.\n",
        "            Place each caption into an object with the timecode of the caption in the video.\n",
        "         \"\"\"\n",
        "\n",
        "video = magician_video\n",
        "\n",
        "response = client.models.generate_content(\n",
        "    model=model,\n",
        "    contents=[\n",
        "        Content(\n",
        "            role=\"user\",\n",
        "            parts=[\n",
        "                Part.from_uri(\n",
        "                    file_uri=video.uri or \"\",\n",
        "                    mime_type=video.mime_type or \"\"),\n",
        "                ]),\n",
        "        prompt,\n",
        "    ]\n",
        ")\n"
      ],
      "metadata": {
        "id": "7MAjGSAy6kbz"
      },
      "execution_count": 39,
      "outputs": []
    },
    {
      "cell_type": "code",
      "source": [
        "from IPython.display import Markdown\n",
        "display(Markdown(response.text))"
      ],
      "metadata": {
        "id": "YruqECpq6qAq",
        "outputId": "67a50d28-857f-45cd-90f2-8db3b27a97c2",
        "colab": {
          "base_uri": "https://localhost:8080/",
          "height": 399
        }
      },
      "execution_count": 40,
      "outputs": [
        {
          "output_type": "display_data",
          "data": {
            "text/plain": [
              "<IPython.core.display.Markdown object>"
            ],
            "text/markdown": "```json\n[\n  {\n    \"timecode\": \"00:00\",\n    \"caption\": \"A cartoon wizard with a blue robe and purple hat raises his hands over a cauldron in a room lined with bookshelves.\"\n  },\n  {\n    \"timecode\": \"00:01\",\n    \"caption\": \"A cauldron filled with a bubbling, purple potion.\"\n  },\n  {\n    \"timecode\": \"00:02\",\n    \"caption\": \"The purple potion in the cauldron spews upwards in a stream.\"\n  },\n   {\n    \"timecode\": \"00:03\",\n    \"caption\": \"A close up shot of a bright pink liquid in a cauldron.\"\n   },\n  {\n    \"timecode\": \"00:04\",\n    \"caption\": \"A close up shot of a bright pink liquid in a cauldron with streams flowing into it.\"\n  }\n]\n```\n"
          },
          "metadata": {}
        }
      ]
    }
  ],
  "metadata": {
    "language_info": {
      "name": "python"
    },
    "colab": {
      "provenance": []
    },
    "kernelspec": {
      "name": "python3",
      "display_name": "Python 3"
    }
  },
  "nbformat": 4,
  "nbformat_minor": 0
}