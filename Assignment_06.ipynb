{
  "cells": [
    {
      "cell_type": "code",
      "source": [
        "!pip install --upgrade --quiet google-genai"
      ],
      "metadata": {
        "id": "RaPPdD7WExcP"
      },
      "execution_count": 7,
      "outputs": []
    },
    {
      "cell_type": "code",
      "source": [
        "from google.colab import userdata\n",
        "\n",
        "GEMINI_API_KEY : str = userdata.get('GEMINI_API_KEY')\n",
        "\n",
        "if GEMINI_API_KEY:\n",
        "  print(\"GEMINI_API_KEY FOUND\")\n",
        "else:\n",
        "  print(\"GEMINI_API_KEY NOT FOUND\")"
      ],
      "metadata": {
        "colab": {
          "base_uri": "https://localhost:8080/"
        },
        "id": "LJia8hLcGRAY",
        "outputId": "8348b5fb-46ec-45f5-a7c7-a14d9e2b1cbb"
      },
      "execution_count": 3,
      "outputs": [
        {
          "output_type": "stream",
          "name": "stdout",
          "text": [
            "GEMINI_API_KEY FOUND\n"
          ]
        }
      ]
    },
    {
      "cell_type": "code",
      "source": [
        "from google import genai\n",
        "from google.genai import Client\n",
        "\n",
        "client: Client = genai.Client(\n",
        "    api_key=GEMINI_API_KEY,\n",
        ")\n",
        "\n",
        "model: str = \"gemini-2.0-flash-exp\""
      ],
      "metadata": {
        "id": "R7BZM_vt6NgO"
      },
      "execution_count": 8,
      "outputs": []
    },
    {
      "cell_type": "code",
      "source": [
        "import time\n",
        "\n",
        "def upload_video(video_file_name):\n",
        "  video_file = client.files.upload(path=video_file_name)\n",
        "  while video_file.state == \"PROCESSING\":\n",
        "      print('Waiting for video to be processed.')\n",
        "      time.sleep(10)\n",
        "      video_file = client.files.get(name=video_file.name or \"\")\n",
        "\n",
        "  if video_file.state == \"FAILED\":\n",
        "    raise ValueError(video_file.state)\n",
        "  print(f'Video processing complete: ' + (video_file.uri or \"\"))\n",
        "\n",
        "  return video_file"
      ],
      "metadata": {
        "id": "AVDjaaMM3Soh"
      },
      "execution_count": 10,
      "outputs": []
    },
    {
      "cell_type": "code",
      "source": [
        "magician_video = upload_video('magician.mp4')"
      ],
      "metadata": {
        "id": "slIO1H5o6aFp",
        "outputId": "7eb222f3-ceb0-4741-c49b-06e853554dea",
        "colab": {
          "base_uri": "https://localhost:8080/"
        }
      },
      "execution_count": 16,
      "outputs": [
        {
          "output_type": "stream",
          "name": "stdout",
          "text": [
            "Waiting for video to be processed.\n",
            "Video processing complete: https://generativelanguage.googleapis.com/v1beta/files/hw6znkilkt03\n"
          ]
        }
      ]
    },
    {
      "cell_type": "code",
      "source": [
        "from google.genai.types import Content, Part\n",
        "prompt = \"\"\"For each scene in this video,\n",
        "            generate captions that describe the scene along with any spoken text placed in quotation marks.\n",
        "            Place each caption into an object with the timecode of the caption in the video.\n",
        "         \"\"\"\n",
        "\n",
        "video = magician_video\n",
        "\n",
        "response = client.models.generate_content(\n",
        "    model=model,\n",
        "    contents=[\n",
        "        Content(\n",
        "            role=\"user\",\n",
        "            parts=[\n",
        "                Part.from_uri(\n",
        "                    file_uri=video.uri or \"\",\n",
        "                    mime_type=video.mime_type or \"\"),\n",
        "                ]),\n",
        "        prompt,\n",
        "    ]\n",
        ")\n"
      ],
      "metadata": {
        "id": "7MAjGSAy6kbz"
      },
      "execution_count": 17,
      "outputs": []
    },
    {
      "cell_type": "code",
      "source": [
        "from IPython.display import Markdown\n",
        "display(Markdown(response.text))"
      ],
      "metadata": {
        "id": "YruqECpq6qAq",
        "outputId": "3a592812-141f-43c5-f448-aa5e6cc27062",
        "colab": {
          "base_uri": "https://localhost:8080/",
          "height": 399
        }
      },
      "execution_count": 18,
      "outputs": [
        {
          "output_type": "display_data",
          "data": {
            "text/plain": [
              "<IPython.core.display.Markdown object>"
            ],
            "text/markdown": "```json\n[\n  {\n    \"timecode\": \"00:00\",\n    \"caption\": \"A person wearing a blue robe and a purple hat raises their hands above a large black cauldron. Bookshelves line the walls of the wooden room.\"\n  },\n  {\n    \"timecode\": \"00:01\",\n     \"caption\": \"Purple smoke rises from the cauldron and swirls around a person wearing a blue robe and a purple hat.\"\n  },\n  {\n    \"timecode\": \"00:02\",\n    \"caption\": \"Close-up view of a bubbling purple liquid in a black cauldron, with light beams emerging from within.\"\n  },\n  {\n    \"timecode\": \"00:03\",\n    \"caption\": \"A close-up of purple liquid bubbling inside of a black cauldron.\"\n  },\n  {\n     \"timecode\":\"00:04\",\n     \"caption\":\"A close up of light beams rising from a bubbling purple liquid in a cauldron.\"\n  }\n]\n```\n"
          },
          "metadata": {}
        }
      ]
    }
  ],
  "metadata": {
    "language_info": {
      "name": "python"
    },
    "colab": {
      "provenance": []
    },
    "kernelspec": {
      "name": "python3",
      "display_name": "Python 3"
    }
  },
  "nbformat": 4,
  "nbformat_minor": 0
}