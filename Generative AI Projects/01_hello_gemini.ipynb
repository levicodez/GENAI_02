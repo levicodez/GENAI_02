{
  "cells": [
    {
      "cell_type": "code",
      "source": [
        "!pip install -q langchain langchain-google-genai"
      ],
      "metadata": {
        "id": "eR9jAMsrqqZm",
        "outputId": "a94eadc0-3e78-4efc-821b-998de33dc2fc",
        "colab": {
          "base_uri": "https://localhost:8080/"
        }
      },
      "execution_count": 2,
      "outputs": [
        {
          "output_type": "stream",
          "name": "stdout",
          "text": [
            "\u001b[?25l   \u001b[90m━━━━━━━━━━━━━━━━━━━━━━━━━━━━━━━━━━━━━━━━\u001b[0m \u001b[32m0.0/41.3 kB\u001b[0m \u001b[31m?\u001b[0m eta \u001b[36m-:--:--\u001b[0m\r\u001b[2K   \u001b[90m━━━━━━━━━━━━━━━━━━━━━━━━━━━━━━━━━━━━━━━━\u001b[0m \u001b[32m41.3/41.3 kB\u001b[0m \u001b[31m1.6 MB/s\u001b[0m eta \u001b[36m0:00:00\u001b[0m\n",
            "\u001b[?25h"
          ]
        }
      ]
    },
    {
      "cell_type": "code",
      "source": [
        "import langchain_google_genai as genai"
      ],
      "metadata": {
        "id": "lwUmPj38vKMC"
      },
      "execution_count": 3,
      "outputs": []
    },
    {
      "cell_type": "code",
      "source": [
        "from langchain_google_genai import ChatGoogleGenerativeAI"
      ],
      "metadata": {
        "id": "P3KzwFMjvRyJ"
      },
      "execution_count": 4,
      "outputs": []
    },
    {
      "cell_type": "code",
      "source": [
        "from google.colab import userdata\n",
        "GOOGLE_API_KEY:str = userdata.get('GEMINI_API_KEY')\n",
        "\n",
        "if GOOGLE_API_KEY:\n",
        "  print(\"GEMINI API FETCHED\")\n",
        "else:\n",
        "  print(\"GEMINI API NOT FETCHED\")"
      ],
      "metadata": {
        "id": "FCRAW2Gwvsnl",
        "outputId": "8b860c81-8505-4484-8c9b-dd0c76ae075f",
        "colab": {
          "base_uri": "https://localhost:8080/"
        }
      },
      "execution_count": 5,
      "outputs": [
        {
          "output_type": "stream",
          "name": "stdout",
          "text": [
            "GEMINI API FETCHED\n"
          ]
        }
      ]
    },
    {
      "cell_type": "code",
      "source": [
        "llm:ChatGoogleGenerativeAI = ChatGoogleGenerativeAI(\n",
        "    model=\"gemini-1.5-flash\",\n",
        "    api_key = GOOGLE_API_KEY,\n",
        ")"
      ],
      "metadata": {
        "id": "k5v-iQvGvcGt"
      },
      "execution_count": 6,
      "outputs": []
    },
    {
      "cell_type": "code",
      "source": [
        "response1 = llm.invoke(\"Tell me some jokes about the solo leveling anime. Use some emojies also\")"
      ],
      "metadata": {
        "id": "6jIikA_nyDeZ"
      },
      "execution_count": 7,
      "outputs": []
    },
    {
      "cell_type": "code",
      "source": [
        "print(response1.content)"
      ],
      "metadata": {
        "id": "xS_4qQwByJlN",
        "outputId": "ae2e6db9-4a7d-45fb-9bda-747394687699",
        "colab": {
          "base_uri": "https://localhost:8080/"
        }
      },
      "execution_count": 8,
      "outputs": [
        {
          "output_type": "stream",
          "name": "stdout",
          "text": [
            "Here are some jokes about the Solo Leveling anime, incorporating emojis:\n",
            "\n",
            "* Why did Sung Jinwoo always bring extra potions to his hunts?  Because he's a *solo* player and can't rely on anyone else! 😂💪\n",
            "\n",
            "* What's Sung Jinwoo's favorite type of coffee?  Espresso, because he needs the extra *boost* to level up! ☕⬆️\n",
            "\n",
            "* What did the Shadow Monarch say to the Ant Queen?  \"Don't worry, I've got this... *solo*.\" 😎🐜👑\n",
            "\n",
            "* How many Shadow Soldiers does it take to change a lightbulb?  Just one.  They're incredibly *efficient*. 💡💪👤\n",
            "\n",
            "* Why did the other hunters refuse to team up with Sung Jinwoo?  Because they were afraid of being *completely* overshadowed! 😱✨\n",
            "\n",
            "* What's Sung Jinwoo's least favorite type of dungeon?  A *teamwork* dungeon.  He prefers to work alone! 😠🤝🚫\n",
            "\n",
            "* What did the gate say to Sung Jinwoo?  \"Prepare to be *solo'd*!\" 🚪💥\n",
            "\n",
            "\n",
            "Remember that these are lighthearted jokes and don't reflect the serious and intense aspects of the Solo Leveling story.\n",
            "\n"
          ]
        }
      ]
    },
    {
      "cell_type": "code",
      "source": [
        "from IPython.display import display, Markdown\n",
        "display(Markdown(response1.content))"
      ],
      "metadata": {
        "id": "EsAL7do60zno",
        "outputId": "1048cb05-0751-4d6d-d32b-0c5a67b6585c",
        "colab": {
          "base_uri": "https://localhost:8080/",
          "height": 233
        }
      },
      "execution_count": 9,
      "outputs": [
        {
          "output_type": "display_data",
          "data": {
            "text/plain": [
              "<IPython.core.display.Markdown object>"
            ],
            "text/markdown": "Here are some jokes about the Solo Leveling anime, incorporating emojis:\n\n* Why did Sung Jinwoo always bring extra potions to his hunts?  Because he's a *solo* player and can't rely on anyone else! 😂💪\n\n* What's Sung Jinwoo's favorite type of coffee?  Espresso, because he needs the extra *boost* to level up! ☕⬆️\n\n* What did the Shadow Monarch say to the Ant Queen?  \"Don't worry, I've got this... *solo*.\" 😎🐜👑\n\n* How many Shadow Soldiers does it take to change a lightbulb?  Just one.  They're incredibly *efficient*. 💡💪👤\n\n* Why did the other hunters refuse to team up with Sung Jinwoo?  Because they were afraid of being *completely* overshadowed! 😱✨\n\n* What's Sung Jinwoo's least favorite type of dungeon?  A *teamwork* dungeon.  He prefers to work alone! 😠🤝🚫\n\n* What did the gate say to Sung Jinwoo?  \"Prepare to be *solo'd*!\" 🚪💥\n\n\nRemember that these are lighthearted jokes and don't reflect the serious and intense aspects of the Solo Leveling story.\n"
          },
          "metadata": {}
        }
      ]
    },
    {
      "cell_type": "code",
      "source": [
        "from langchain.prompts import PromptTemplate"
      ],
      "metadata": {
        "id": "aPvhT-ee1evl"
      },
      "execution_count": 10,
      "outputs": []
    },
    {
      "cell_type": "code",
      "source": [
        "prompt_template = PromptTemplate(\n",
        "    input_variables=[\"question\"],\n",
        "    template=\"You are a helpful assistant. Answer the following question:\\n\\n{question}\"\n",
        ")"
      ],
      "metadata": {
        "id": "kelT8elw1Cul"
      },
      "execution_count": 11,
      "outputs": []
    },
    {
      "cell_type": "code",
      "source": [
        "from langchain.chains import LLMChain"
      ],
      "metadata": {
        "id": "Bv6hUgC11UTN"
      },
      "execution_count": 12,
      "outputs": []
    },
    {
      "cell_type": "code",
      "source": [
        "chain = LLMChain(llm=llm, prompt=prompt_template)"
      ],
      "metadata": {
        "id": "ulVkIp9J1qwz",
        "outputId": "d78f49c9-c0a7-4680-b06d-f49318ef9f15",
        "colab": {
          "base_uri": "https://localhost:8080/"
        }
      },
      "execution_count": 13,
      "outputs": [
        {
          "output_type": "stream",
          "name": "stderr",
          "text": [
            "<ipython-input-13-4f9708b53e60>:1: LangChainDeprecationWarning: The class `LLMChain` was deprecated in LangChain 0.1.17 and will be removed in 1.0. Use :meth:`~RunnableSequence, e.g., `prompt | llm`` instead.\n",
            "  chain = LLMChain(llm=llm, prompt=prompt_template)\n"
          ]
        }
      ]
    },
    {
      "cell_type": "code",
      "source": [
        "question = \"Most coolest character in bleach series\"\n",
        "response = chain.invoke({\"question\": question})\n",
        "\n",
        "print(\"Answer:\", response)"
      ],
      "metadata": {
        "id": "34wBqI3J1tXF",
        "colab": {
          "base_uri": "https://localhost:8080/"
        },
        "outputId": "e67bfc7b-bf07-47f1-8d09-6b8bbd7521ab"
      },
      "execution_count": 31,
      "outputs": [
        {
          "output_type": "stream",
          "name": "stdout",
          "text": [
            "Answer: {'question': 'Most coolest character in bleach series', 'text': 'There\\'s no single \"most coolest\" character in Bleach, as coolness is subjective and depends on individual preferences.  However, some consistently popular choices for \"coolest\" characters include:\\n\\n* **Byakuya Kuchiki:** His calm demeanor, immense power, and unwavering loyalty (even if flawed) make him a fan favorite.  His elegant fighting style and noble bearing contribute to his cool image.\\n\\n* **Sosuke Aizen:**  While a villain, Aizen\\'s manipulative intelligence, overwhelming power, and calm confidence make him incredibly captivating and, to many, \"cool.\" His calculated actions and seemingly effortless victories contribute to this perception.\\n\\n* **Kenpachi Zaraki:**  His brutal strength, unrefined fighting style, and love for a good fight appeal to many. His lack of concern for strategy and his sheer power make him a compelling character.\\n\\n* **Ichigo Kurosaki:** The protagonist, Ichigo, grows significantly throughout the series, becoming a powerful and determined Shinigami.  His rebellious spirit and unwavering dedication to protecting his friends resonate with viewers.\\n\\n\\nUltimately, the \"coolest\" character is a matter of personal opinion.  These are just some of the most frequently cited contenders.\\n'}\n"
          ]
        }
      ]
    },
    {
      "cell_type": "code",
      "source": [
        "display(Markdown(response['text']))"
      ],
      "metadata": {
        "colab": {
          "base_uri": "https://localhost:8080/",
          "height": 250
        },
        "id": "Sm_lf6V1baS4",
        "outputId": "92796b93-1de1-4343-bfad-309cd112856d"
      },
      "execution_count": 29,
      "outputs": [
        {
          "output_type": "display_data",
          "data": {
            "text/plain": [
              "<IPython.core.display.Markdown object>"
            ],
            "text/markdown": "There's no single \"coolest\" character in Bleach, as coolness is subjective and depends on individual preferences.  However, some of the most frequently cited \"cool\" characters include:\n\n* **Byakuya Kuchiki:** His stoic demeanor, elegant fighting style, and powerful ice-based abilities make him a popular choice.  His reserved nature and unwavering loyalty add to his appeal.\n\n* **Sosuke Aizen:**  While a villain, Aizen's manipulative intelligence, overwhelming power, and calm confidence make him undeniably cool to many, albeit in a villainous way.\n\n* **Kenpachi Zaraki:** His brutal strength, unrefined fighting style, and bloodthirsty nature appeal to those who appreciate raw power and untamed energy.  His lack of strategy and pure reliance on strength is part of his charm.\n\n* **Ichigo Kurosaki (especially his Hollowfied forms):**  While initially less refined, Ichigo's determination and power, particularly when his Hollow powers manifest, make him a compelling and \"cool\" protagonist for many.\n\nUltimately, the \"coolest\" Bleach character is a matter of personal opinion.  These are just some of the most frequently mentioned contenders.\n"
          },
          "metadata": {}
        }
      ]
    }
  ],
  "metadata": {
    "language_info": {
      "name": "python"
    },
    "colab": {
      "provenance": []
    },
    "kernelspec": {
      "name": "python3",
      "display_name": "Python 3"
    }
  },
  "nbformat": 4,
  "nbformat_minor": 0
}